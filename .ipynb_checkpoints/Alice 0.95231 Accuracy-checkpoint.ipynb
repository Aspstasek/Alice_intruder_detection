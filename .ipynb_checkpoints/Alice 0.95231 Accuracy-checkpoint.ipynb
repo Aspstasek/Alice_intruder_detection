{
 "cells": [
  {
   "cell_type": "code",
   "execution_count": 1,
   "metadata": {
    "ExecuteTime": {
     "end_time": "2018-04-01T15:50:16.526100Z",
     "start_time": "2018-04-01T15:50:09.725695Z"
    }
   },
   "outputs": [],
   "source": [
    "import pickle\n",
    "import glob,os\n",
    "import numpy as np\n",
    "import pandas as pd\n",
    "from tqdm import tqdm_notebook\n",
    "from scipy.sparse import csr_matrix, hstack\n",
    "from sklearn.preprocessing import StandardScaler\n",
    "from sklearn.feature_extraction.text import CountVectorizer,TfidfTransformer\n",
    "from sklearn.metrics import roc_auc_score\n",
    "from sklearn.linear_model import LogisticRegression, SGDClassifier\n",
    "from sklearn.model_selection import GridSearchCV, ParameterGrid, TimeSeriesSplit\n",
    "from sklearn.pipeline import Pipeline\n",
    "%matplotlib inline\n",
    "from matplotlib import pyplot as plt\n",
    "from datetime import timedelta\n",
    "import seaborn as sns"
   ]
  },
  {
   "cell_type": "code",
   "execution_count": 2,
   "metadata": {
    "ExecuteTime": {
     "end_time": "2018-04-01T15:50:17.211555Z",
     "start_time": "2018-04-01T15:50:17.206902Z"
    }
   },
   "outputs": [],
   "source": [
    "# функция для записи прогнозов в файл\n",
    "def write_to_submission_file(predicted_labels, out_file,\n",
    "                             target='target', index_label=\"session_id\"):\n",
    "    predicted_df = pd.DataFrame(predicted_labels,\n",
    "                                index = np.arange(1, predicted_labels.shape[0] + 1),\n",
    "                                columns=[target])\n",
    "    predicted_df.to_csv(out_file, index_label=index_label)"
   ]
  },
  {
   "cell_type": "code",
   "execution_count": 3,
   "metadata": {
    "ExecuteTime": {
     "end_time": "2018-04-01T15:50:21.444969Z",
     "start_time": "2018-04-01T15:50:18.735624Z"
    }
   },
   "outputs": [],
   "source": [
    "train_df = pd.read_csv('train_sessions.csv',\n",
    "                       index_col='session_id')\n",
    "test_df = pd.read_csv('test_sessions.csv',\n",
    "                      index_col='session_id')"
   ]
  },
  {
   "cell_type": "code",
   "execution_count": 4,
   "metadata": {
    "ExecuteTime": {
     "end_time": "2018-04-01T15:50:24.440140Z",
     "start_time": "2018-04-01T15:50:21.897823Z"
    }
   },
   "outputs": [],
   "source": [
    "times = ['time%s' % i for i in range(1, 11)]\n",
    "sites = ['site%s' % i for i in range(1, 11)]\n",
    "train_df[times] = train_df[times].apply(pd.to_datetime)\n",
    "test_df[times] = test_df[times].apply(pd.to_datetime)\n",
    "train_df[sites] = train_df[sites].fillna(0).astype('int')\n",
    "test_df[sites] = test_df[sites].fillna(0).astype('int')"
   ]
  },
  {
   "cell_type": "markdown",
   "metadata": {},
   "source": [
    "### Drop the unulual activity of Alice"
   ]
  },
  {
   "cell_type": "code",
   "execution_count": 5,
   "metadata": {
    "ExecuteTime": {
     "end_time": "2018-04-01T15:37:17.950874Z",
     "start_time": "2018-04-01T15:37:17.858761Z"
    }
   },
   "outputs": [],
   "source": [
    "train_df.drop(train_df[(train_df[\"target\"]==1) & (train_df[\"time1\"].dt.hour==14)].index,inplace=True)"
   ]
  },
  {
   "cell_type": "code",
   "execution_count": 6,
   "metadata": {
    "ExecuteTime": {
     "end_time": "2018-04-01T15:37:18.361785Z",
     "start_time": "2018-04-01T15:37:18.307730Z"
    }
   },
   "outputs": [],
   "source": [
    "train_df.drop(train_df[(train_df[\"target\"]==1) & (train_df[\"time1\"].dt.hour==11)].index,inplace=True)"
   ]
  },
  {
   "cell_type": "markdown",
   "metadata": {},
   "source": [
    "### Create a spare matrix of sites"
   ]
  },
  {
   "cell_type": "code",
   "execution_count": 18,
   "metadata": {
    "ExecuteTime": {
     "end_time": "2018-04-01T15:52:30.335524Z",
     "start_time": "2018-04-01T15:52:30.152677Z"
    }
   },
   "outputs": [],
   "source": [
    "# наша целевая переменная\n",
    "y_train = train_df['target']\n",
    "\n",
    "# объединенная таблица исходных данных\n",
    "full_df = pd.concat([train_df.drop('target', axis=1), test_df])\n",
    "\n",
    "# индекс, по которому будем отделять обучающую выборку от тестовой\n",
    "idx_split = train_df.shape[0]\n",
    "full_sites = full_df[sites]"
   ]
  },
  {
   "cell_type": "code",
   "execution_count": 8,
   "metadata": {
    "ExecuteTime": {
     "end_time": "2018-04-01T15:37:21.298761Z",
     "start_time": "2018-04-01T15:37:20.907770Z"
    }
   },
   "outputs": [],
   "source": [
    "# последовательность с индексами\n",
    "sites_flatten = full_sites.values.flatten()\n",
    "\n",
    "# искомая матрица\n",
    "full_sites_sparse = csr_matrix(([1] * sites_flatten.shape[0],\n",
    "                                sites_flatten,\n",
    "                                range(0, sites_flatten.shape[0] + 10, 10)))[:, 1:]"
   ]
  },
  {
   "cell_type": "code",
   "execution_count": 9,
   "metadata": {
    "ExecuteTime": {
     "end_time": "2018-04-01T15:37:22.366643Z",
     "start_time": "2018-04-01T15:37:22.325922Z"
    }
   },
   "outputs": [],
   "source": [
    "X_train_sparse = full_sites_sparse[:idx_split]\n",
    "X_test_sparse = full_sites_sparse[idx_split:]"
   ]
  },
  {
   "cell_type": "markdown",
   "metadata": {},
   "source": [
    "### New features"
   ]
  },
  {
   "cell_type": "code",
   "execution_count": 5,
   "metadata": {
    "ExecuteTime": {
     "end_time": "2018-04-01T15:50:27.166835Z",
     "start_time": "2018-04-01T15:50:27.163609Z"
    }
   },
   "outputs": [],
   "source": [
    "new_features_train = pd.DataFrame(index = train_df.index)\n",
    "new_features_test = pd.DataFrame(index =test_df.index)"
   ]
  },
  {
   "cell_type": "markdown",
   "metadata": {},
   "source": [
    "Get Start_hour"
   ]
  },
  {
   "cell_type": "code",
   "execution_count": 6,
   "metadata": {
    "ExecuteTime": {
     "end_time": "2018-04-01T15:50:29.134717Z",
     "start_time": "2018-04-01T15:50:28.073157Z"
    }
   },
   "outputs": [],
   "source": [
    "1. #Start Hour\n",
    "new_features_train[\"start_hour\"] = train_df[\"time1\"].apply(lambda ts: ts.hour)\n",
    "new_features_test[\"start_hour\"] = test_df[\"time1\"].apply(lambda ts: ts.hour)"
   ]
  },
  {
   "cell_type": "code",
   "execution_count": 7,
   "metadata": {
    "ExecuteTime": {
     "end_time": "2018-04-01T15:50:29.146099Z",
     "start_time": "2018-04-01T15:50:29.136211Z"
    }
   },
   "outputs": [],
   "source": [
    "# 2. Morning\n",
    "new_features_train[\"morning\"] = np.where(new_features_train[\"start_hour\"] <=11, 1,0)\n",
    "new_features_test[\"morning\"] = np.where(new_features_test[\"start_hour\"] <=11, 1,0)"
   ]
  },
  {
   "cell_type": "code",
   "execution_count": 8,
   "metadata": {
    "ExecuteTime": {
     "end_time": "2018-04-01T15:50:29.499789Z",
     "start_time": "2018-04-01T15:50:29.492323Z"
    }
   },
   "outputs": [],
   "source": [
    "new_features_train[\"early_morning\"] = np.where(new_features_train[\"start_hour\"] < 9, 1, 0)\n",
    "new_features_test[\"early_morning\"] = np.where(new_features_test[\"start_hour\"] < 9, 1, 0)"
   ]
  },
  {
   "cell_type": "code",
   "execution_count": 9,
   "metadata": {
    "ExecuteTime": {
     "end_time": "2018-04-01T15:50:29.981973Z",
     "start_time": "2018-04-01T15:50:29.974635Z"
    }
   },
   "outputs": [],
   "source": [
    "new_features_train[\"lunch\"] = np.where(new_features_train[\"start_hour\"]==14,1,0)\n",
    "new_features_test[\"lunch\"] = np.where(new_features_test[\"start_hour\"]==14,1,0)"
   ]
  },
  {
   "cell_type": "code",
   "execution_count": 10,
   "metadata": {
    "ExecuteTime": {
     "end_time": "2018-04-01T15:50:30.904714Z",
     "start_time": "2018-04-01T15:50:30.897139Z"
    }
   },
   "outputs": [],
   "source": [
    "# 4. Evening\n",
    "new_features_train[\"evining\"] = np.where(new_features_train[\"start_hour\"] > 18, 1, 0)\n",
    "new_features_test[\"evining\"] = np.where(new_features_test[\"start_hour\"] > 18, 1, 0)\n",
    "# best score so far on evining >22"
   ]
  },
  {
   "cell_type": "code",
   "execution_count": 11,
   "metadata": {
    "ExecuteTime": {
     "end_time": "2018-04-01T15:50:31.306234Z",
     "start_time": "2018-04-01T15:50:31.257488Z"
    }
   },
   "outputs": [],
   "source": [
    "new_features_train[\"month\"] = train_df[\"time1\"].dt.month\n",
    "new_features_test[\"month\"] = test_df[\"time1\"].dt.month\n",
    "month_train = pd.get_dummies(new_features_train[\"month\"])\n",
    "month_test = pd.get_dummies(new_features_test[\"month\"])\n",
    "month_train_new,month_test_new = month_train.align(month_test,join = \"outer\",axis = 1, fill_value = 0)"
   ]
  },
  {
   "cell_type": "markdown",
   "metadata": {},
   "source": [
    "Day of week"
   ]
  },
  {
   "cell_type": "code",
   "execution_count": 12,
   "metadata": {
    "ExecuteTime": {
     "end_time": "2018-04-01T15:50:32.520150Z",
     "start_time": "2018-04-01T15:50:32.494572Z"
    }
   },
   "outputs": [],
   "source": [
    "new_features_train[\"day_of_week\"] = train_df[\"time1\"].dt.dayofweek\n",
    "new_features_test[\"day_of_week\"] = test_df[\"time1\"].dt.dayofweek"
   ]
  },
  {
   "cell_type": "code",
   "execution_count": 13,
   "metadata": {
    "ExecuteTime": {
     "end_time": "2018-04-01T15:50:33.154759Z",
     "start_time": "2018-04-01T15:50:33.147093Z"
    }
   },
   "outputs": [],
   "source": [
    "new_features_train[\"work_holiday\"] = np.where(new_features_train[\"day_of_week\"].isin([0,1,2,3,4,5]),0,1)\n",
    "new_features_test[\"work_holiday\"] = np.where(new_features_test[\"day_of_week\"].isin([0,1,2,3,4,5]),0,1)"
   ]
  },
  {
   "cell_type": "code",
   "execution_count": 19,
   "metadata": {
    "ExecuteTime": {
     "end_time": "2018-04-01T15:52:33.432778Z",
     "start_time": "2018-04-01T15:52:33.426458Z"
    }
   },
   "outputs": [],
   "source": [
    "start_hour = pd.concat([new_features_train[\"start_hour\"],y_train],axis = 1)\n",
    "#start_hour = start_hour[start_hour[\"target\"]==1]"
   ]
  },
  {
   "cell_type": "code",
   "execution_count": 32,
   "metadata": {
    "ExecuteTime": {
     "end_time": "2018-04-01T16:05:34.075847Z",
     "start_time": "2018-04-01T16:05:33.683832Z"
    }
   },
   "outputs": [
    {
     "data": {
      "text/plain": [
       "<matplotlib.axes._subplots.AxesSubplot at 0x122a6f860>"
      ]
     },
     "execution_count": 32,
     "metadata": {},
     "output_type": "execute_result"
    },
    {
     "data": {
      "image/png": "[encoded data removed]",
      "text/plain": [
       "<matplotlib.figure.Figure at 0x1204bf5f8>"
      ]
     },
     "metadata": {},
     "output_type": "display_data"
    }
   ],
   "source": [
    "fig, ax = plt.subplots()\n",
    "fig.set_size_inches(11.7, 8.27)\n",
    "sns.countplot(x = \"start_hour\", data = start_hour,hue = \"target\")"
   ]
  },
  {
   "cell_type": "code",
   "execution_count": 198,
   "metadata": {
    "ExecuteTime": {
     "end_time": "2018-04-01T15:24:20.116517Z",
     "start_time": "2018-04-01T15:24:20.106796Z"
    }
   },
   "outputs": [],
   "source": [
    "dayweek = pd.concat([new_features_train[\"day_of_week\"],y_train],axis = 1)\n",
    "dayweek = dayweek[dayweek[\"target\"]==1]"
   ]
  },
  {
   "cell_type": "code",
   "execution_count": 199,
   "metadata": {
    "ExecuteTime": {
     "end_time": "2018-04-01T15:24:21.217827Z",
     "start_time": "2018-04-01T15:24:20.973345Z"
    }
   },
   "outputs": [
    {
     "data": {
      "text/plain": [
       "<matplotlib.axes._subplots.AxesSubplot at 0x11c6ed470>"
      ]
     },
     "execution_count": 199,
     "metadata": {},
     "output_type": "execute_result"
    },
    {
     "data": {
      "image/png": "[encoded data removed]",
      "text/plain": [
       "<matplotlib.figure.Figure at 0x11b2a5a20>"
      ]
     },
     "metadata": {},
     "output_type": "display_data"
    }
   ],
   "source": [
    "fig, ax = plt.subplots()\n",
    "fig.set_size_inches(11.7, 8.27)\n",
    "sns.countplot(data = dayweek,x = \"day_of_week\")"
   ]
  },
  {
   "cell_type": "code",
   "execution_count": 69,
   "metadata": {
    "ExecuteTime": {
     "end_time": "2018-03-30T20:42:40.488308Z",
     "start_time": "2018-03-30T20:42:40.465283Z"
    }
   },
   "outputs": [],
   "source": [
    "month = pd.concat([train_df[\"time1\"].dt.month,y_train],axis = 1)\n",
    "month = month[month[\"target\"]==1]"
   ]
  },
  {
   "cell_type": "code",
   "execution_count": 70,
   "metadata": {
    "ExecuteTime": {
     "end_time": "2018-03-30T20:42:55.587970Z",
     "start_time": "2018-03-30T20:42:55.319157Z"
    }
   },
   "outputs": [
    {
     "data": {
      "text/plain": [
       "<matplotlib.axes._subplots.AxesSubplot at 0x1236a3438>"
      ]
     },
     "execution_count": 70,
     "metadata": {},
     "output_type": "execute_result"
    },
    {
     "data": {
      "image/png": "[encoded data removed]",
      "text/plain": [
       "<matplotlib.figure.Figure at 0x114e3ec88>"
      ]
     },
     "metadata": {},
     "output_type": "display_data"
    }
   ],
   "source": [
    "fig, ax = plt.subplots()\n",
    "fig.set_size_inches(11.7, 8.27)\n",
    "sns.countplot(data = month,x = \"time1\")"
   ]
  },
  {
   "cell_type": "code",
   "execution_count": 71,
   "metadata": {
    "ExecuteTime": {
     "end_time": "2018-03-30T20:45:10.116639Z",
     "start_time": "2018-03-30T20:45:10.096078Z"
    }
   },
   "outputs": [],
   "source": [
    "day = pd.concat([train_df[\"time1\"].dt.day,y_train],axis = 1)\n",
    "day = day[day[\"target\"]==1]"
   ]
  },
  {
   "cell_type": "code",
   "execution_count": 72,
   "metadata": {
    "ExecuteTime": {
     "end_time": "2018-03-30T20:45:11.784299Z",
     "start_time": "2018-03-30T20:45:11.453372Z"
    }
   },
   "outputs": [
    {
     "data": {
      "text/plain": [
       "<matplotlib.axes._subplots.AxesSubplot at 0x115a6ecf8>"
      ]
     },
     "execution_count": 72,
     "metadata": {},
     "output_type": "execute_result"
    },
    {
     "data": {
      "image/png": "[encoded data removed]",
      "text/plain": [
       "<matplotlib.figure.Figure at 0x115a65e80>"
      ]
     },
     "metadata": {},
     "output_type": "display_data"
    }
   ],
   "source": [
    "fig, ax = plt.subplots()\n",
    "fig.set_size_inches(11.7, 8.27)\n",
    "sns.countplot(data = day,x = \"time1\")"
   ]
  },
  {
   "cell_type": "code",
   "execution_count": 89,
   "metadata": {
    "ExecuteTime": {
     "end_time": "2018-03-31T10:02:19.061950Z",
     "start_time": "2018-03-31T10:02:19.053824Z"
    }
   },
   "outputs": [],
   "source": [
    "month = pd.concat([new_features_train[\"month\"],y_train],axis = 1)\n",
    "month = month[month[\"target\"]==1]"
   ]
  },
  {
   "cell_type": "code",
   "execution_count": 90,
   "metadata": {
    "ExecuteTime": {
     "end_time": "2018-03-31T10:02:45.962494Z",
     "start_time": "2018-03-31T10:02:45.713294Z"
    }
   },
   "outputs": [
    {
     "data": {
      "text/plain": [
       "<matplotlib.axes._subplots.AxesSubplot at 0x118acb828>"
      ]
     },
     "execution_count": 90,
     "metadata": {},
     "output_type": "execute_result"
    },
    {
     "data": {
      "image/png": "[encoded data removed]",
      "text/plain": [
       "<matplotlib.figure.Figure at 0x11e417748>"
      ]
     },
     "metadata": {},
     "output_type": "display_data"
    }
   ],
   "source": [
    "fig, ax = plt.subplots()\n",
    "fig.set_size_inches(11.7, 8.27)\n",
    "sns.countplot(data = month,x = \"month\")"
   ]
  },
  {
   "cell_type": "code",
   "execution_count": 165,
   "metadata": {
    "ExecuteTime": {
     "end_time": "2018-04-01T11:34:56.985110Z",
     "start_time": "2018-04-01T11:34:56.792008Z"
    }
   },
   "outputs": [],
   "source": [
    "X_train_sparse_new = csr_matrix(hstack([X_train_sparse,\n",
    "                                        csr_matrix(new_features_train[\"early_morning\"].values.reshape(-1,1)),\n",
    "                                        csr_matrix(new_features_train[\"morning\"].values.reshape(-1,1)),\n",
    "                                        csr_matrix(new_features_train[\"lunch\"].values.reshape(-1,1)),\n",
    "                                        csr_matrix(new_features_train[\"evining\"].values.reshape(-1,1)),\n",
    "                                        csr_matrix(new_features_train[\"work_holiday\"].values.reshape(-1,1))\n",
    "                                       ]))"
   ]
  },
  {
   "cell_type": "code",
   "execution_count": 166,
   "metadata": {
    "ExecuteTime": {
     "end_time": "2018-04-01T11:34:58.331307Z",
     "start_time": "2018-04-01T11:34:58.265143Z"
    }
   },
   "outputs": [],
   "source": [
    "X_test_sparse_new = csr_matrix(hstack([X_test_sparse,\n",
    "                                       csr_matrix(new_features_test[\"early_morning\"].values.reshape(-1,1)),\n",
    "                                       csr_matrix(new_features_test[\"morning\"].values.reshape(-1,1)),\n",
    "                                       csr_matrix(new_features_test[\"lunch\"].values.reshape(-1,1)),\n",
    "                                        csr_matrix(new_features_test[\"evining\"].values.reshape(-1,1)),\n",
    "                                       csr_matrix(new_features_test[\"work_holiday\"].values.reshape(-1,1))\n",
    "                                    ]))"
   ]
  },
  {
   "cell_type": "code",
   "execution_count": 192,
   "metadata": {
    "ExecuteTime": {
     "end_time": "2018-04-01T15:10:34.909447Z",
     "start_time": "2018-04-01T15:10:34.904766Z"
    }
   },
   "outputs": [],
   "source": [
    "lr = LogisticRegression(random_state = 7,C = 0.08)"
   ]
  },
  {
   "cell_type": "code",
   "execution_count": 120,
   "metadata": {
    "ExecuteTime": {
     "end_time": "2018-03-31T10:28:54.178303Z",
     "start_time": "2018-03-31T10:28:54.162210Z"
    }
   },
   "outputs": [],
   "source": [
    "logit = cv.best_estimator_.predict_proba(X_test_sparse_new)[:,1]"
   ]
  },
  {
   "cell_type": "code",
   "execution_count": 194,
   "metadata": {
    "ExecuteTime": {
     "end_time": "2018-04-01T15:10:46.738934Z",
     "start_time": "2018-04-01T15:10:46.456841Z"
    }
   },
   "outputs": [],
   "source": [
    "write_to_submission_file(logreg,\"logreg.csv\")"
   ]
  }
 ],
 "metadata": {
  "kernelspec": {
   "display_name": "Python 3",
   "language": "python",
   "name": "python3"
  },
  "language_info": {
   "codemirror_mode": {
    "name": "ipython",
    "version": 3
   },
   "file_extension": ".py",
   "mimetype": "text/x-python",
   "name": "python",
   "nbconvert_exporter": "python",
   "pygments_lexer": "ipython3",
   "version": "3.6.2"
  },
  "varInspector": {
   "cols": {
    "lenName": 16,
    "lenType": 16,
    "lenVar": 40
   },
   "kernels_config": {
    "python": {
     "delete_cmd_postfix": "",
     "delete_cmd_prefix": "del ",
     "library": "var_list.py",
     "varRefreshCmd": "print(var_dic_list())"
    },
    "r": {
     "delete_cmd_postfix": ") ",
     "delete_cmd_prefix": "rm(",
     "library": "var_list.r",
     "varRefreshCmd": "cat(var_dic_list()) "
    }
   },
   "types_to_exclude": [
    "module",
    "function",
    "builtin_function_or_method",
    "instance",
    "_Feature"
   ],
   "window_display": false
  }
 },
 "nbformat": 4,
 "nbformat_minor": 2
}
